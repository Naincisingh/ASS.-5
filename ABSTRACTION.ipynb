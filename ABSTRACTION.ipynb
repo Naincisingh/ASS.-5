{
 "cells": [
  {
   "cell_type": "code",
   "execution_count": 57,
   "id": "dc89a31b-b4f3-4013-876a-de072b16eb92",
   "metadata": {},
   "outputs": [
    {
     "name": "stdout",
     "output_type": "stream",
     "text": [
      "details\n",
      "pls give details\n"
     ]
    }
   ],
   "source": [
    " \"\"\"QTS. 1 abstraction is a process of handling complexity \n",
    "          by hiding unnessary information from the user \"\"\"\n",
    "\n",
    "import abc\n",
    "class pwskills:\n",
    "    abc.abstractmethod\n",
    "    def student_details(self):\n",
    "        pass\n",
    "    abc.abstractmethod\n",
    "    def assignment(self):\n",
    "        pass\n",
    "    abc.abstractmethod\n",
    "    def student_marks(self):\n",
    "        pass\n",
    "    \n",
    "class pwskills1(pwskills):\n",
    "    \n",
    "    def student_detail(self):\n",
    "        print(\"details\")\n",
    "    def student_marks(self):\n",
    "        print(\"marks\")\n",
    "        \n",
    "class pwskills2(pwskills):\n",
    "    \n",
    "    def student_detail(self):\n",
    "        print(\"pls give details\")\n",
    "    def student_marks(self):\n",
    "        print(\"please give marks subjectwise\")\n",
    "        \n",
    "    \n",
    "\n",
    "pw1=pwskills1()\n",
    "pw1.student_detail()   \n",
    "\n",
    "pw2=pwskills2()\n",
    "pw2.student_detail()"
   ]
  },
  {
   "cell_type": "code",
   "execution_count": 37,
   "id": "0cfd175a-6841-406a-95e3-d963e4242b18",
   "metadata": {},
   "outputs": [],
   "source": [
    " \"\"\" QTS.2 encpasulation means hiding the internal details \n",
    "          or mechanics of how an object does something \n",
    "          while abstraction is an outer layout \"\"\"\n",
    "\n",
    "\"\"\"1.encapsulation example\"\"\"\n",
    "class pw:\n",
    "    \n",
    "    def __init__(self,m1,m2,m3):\n",
    "        self.m1=m1\n",
    "        self.m2=m2\n",
    "        self.__m3=m3\n",
    "    def perc(self):\n",
    "        per=(self.__m1+self.__m2+self.__m3)/300*100\n",
    "        return per  "
   ]
  },
  {
   "cell_type": "code",
   "execution_count": 42,
   "id": "669c4e7b-96ee-4584-8f83-77fe7d422ae7",
   "metadata": {},
   "outputs": [
    {
     "data": {
      "text/plain": [
       "25"
      ]
     },
     "execution_count": 42,
     "metadata": {},
     "output_type": "execute_result"
    }
   ],
   "source": [
    "p=pw(25,26,27)\n",
    "p.m1"
   ]
  },
  {
   "cell_type": "code",
   "execution_count": 44,
   "id": "a10ba577-3909-4a8f-a4de-34fe51f05e55",
   "metadata": {},
   "outputs": [
    {
     "ename": "SyntaxError",
     "evalue": "invalid syntax (3724168815.py, line 1)",
     "output_type": "error",
     "traceback": [
      "\u001b[0;36m  Cell \u001b[0;32mIn[44], line 1\u001b[0;36m\u001b[0m\n\u001b[0;31m    p.m3\"\"\"hidden argument\"\"\"\u001b[0m\n\u001b[0m        ^\u001b[0m\n\u001b[0;31mSyntaxError\u001b[0m\u001b[0;31m:\u001b[0m invalid syntax\n"
     ]
    }
   ],
   "source": [
    "p.m3\"\"\"hidden argument that's why error is coming\"\"\""
   ]
  },
  {
   "cell_type": "code",
   "execution_count": 48,
   "id": "0ec6ec9c-3400-4c7a-a47f-aa5bec64698b",
   "metadata": {},
   "outputs": [
    {
     "name": "stdout",
     "output_type": "stream",
     "text": [
      "detl pls\n",
      "sudh ph_no ëmail_id\n"
     ]
    }
   ],
   "source": [
    "\"\"\"2. ABSTRACTION EXAMPLE\"\"\"\n",
    "import abc\n",
    "class abst:\n",
    "    abc.abstractmethod\n",
    "    def details(self):\n",
    "        print(\"give details\")\n",
    "        abc.abstractmethod\n",
    "    def id(self):\n",
    "        print(\"give your id\")\n",
    "              \n",
    "class example(abst):\n",
    "     def details(self):\n",
    "              print(\"detl pls\")\n",
    "     def id(self):\n",
    "              print(\"id pls\")\n",
    "              \n",
    "class ab(abst):\n",
    "      def details(self):\n",
    "              print(\"sudh\",\"ph_no\",\"ëmail_id\")\n",
    "      def id(self):\n",
    "              print(\"name\",\"age\",\"course\")\n",
    "                    \n",
    "ob1=example()\n",
    "ob1.details()\n",
    "ob2=ab()\n",
    "ob2.details()                    \n",
    "                    \n",
    "              "
   ]
  },
  {
   "cell_type": "code",
   "execution_count": 54,
   "id": "920cf45b-8d74-483d-af29-878fbc1e4c40",
   "metadata": {},
   "outputs": [
    {
     "data": {
      "text/plain": [
       "\" why do we need it - b'coz abstract classes cannot be intiated in python we cannot create it directly in python so, \\n                        python provides a module called abc that provide a infrastructure for defining base of \\n                        abstract base classes\""
      ]
     },
     "execution_count": 54,
     "metadata": {},
     "output_type": "execute_result"
    }
   ],
   "source": [
    "\"\"\"QTS.3  ABC module- Pyton is not fully oop's language but itsupport feature like abstract classes and abstraction.  \n",
    "                      this module provide the infrastructure for defining custom abstract base classes, \n",
    "                      an abstract method can be called by it's subclasses\"\"\"\n",
    "\n",
    "\"\"\" why do we need it - b'coz abstract classes cannot be intiated in python we cannot create it directly in python so, \n",
    "                        python provides a module called abc that provide a infrastructure for defining base of \n",
    "                        abstract base classes\"\"\" "
   ]
  },
  {
   "cell_type": "code",
   "execution_count": 55,
   "id": "18daa0cd-3da3-43cb-be03-a8193f467b58",
   "metadata": {},
   "outputs": [
    {
     "data": {
      "text/plain": [
       "'QTS. 4 data abstraction in python can be achieved through creating abstract classes and inheriting them later'"
      ]
     },
     "execution_count": 55,
     "metadata": {},
     "output_type": "execute_result"
    }
   ],
   "source": [
    "\"\"\"QTS. 4 data abstraction in python can be achieved through creating abstract classes and inheriting them later\"\"\""
   ]
  },
  {
   "cell_type": "code",
   "execution_count": 56,
   "id": "f65dd411-5946-45ec-96e5-d7e0e9155d94",
   "metadata": {},
   "outputs": [
    {
     "data": {
      "text/plain": [
       "'QTS. abstract classes are not complete as they may have some methods that are not defined. \\n        so we cannot create an instance or abject of an abstract class in python'"
      ]
     },
     "execution_count": 56,
     "metadata": {},
     "output_type": "execute_result"
    }
   ],
   "source": [
    "\"\"\"QTS. 5 abstract classes are not complete as they may have some methods that are not defined. \n",
    "        so we cannot create an instance or abject of an abstract class in python\"\"\""
   ]
  },
  {
   "cell_type": "code",
   "execution_count": null,
   "id": "bd6f0f23-fb91-4163-9bed-d35b50fdd42c",
   "metadata": {},
   "outputs": [],
   "source": []
  }
 ],
 "metadata": {
  "kernelspec": {
   "display_name": "Python 3 (ipykernel)",
   "language": "python",
   "name": "python3"
  },
  "language_info": {
   "codemirror_mode": {
    "name": "ipython",
    "version": 3
   },
   "file_extension": ".py",
   "mimetype": "text/x-python",
   "name": "python",
   "nbconvert_exporter": "python",
   "pygments_lexer": "ipython3",
   "version": "3.10.8"
  }
 },
 "nbformat": 4,
 "nbformat_minor": 5
}
